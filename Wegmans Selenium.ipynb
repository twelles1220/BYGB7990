{
 "cells": [
  {
   "cell_type": "code",
   "execution_count": 1,
   "metadata": {},
   "outputs": [],
   "source": [
    "from selenium import webdriver\n",
    "import datetime\n",
    "import time\n",
    "from bs4 import BeautifulSoup\n",
    "import urllib.request\n",
    "import pandas as pd\n",
    "import numpy as np"
   ]
  },
  {
   "cell_type": "code",
   "execution_count": 2,
   "metadata": {},
   "outputs": [
    {
     "ename": "WebDriverException",
     "evalue": "Message: 'chromedriver' executable needs to be in PATH. Please see https://sites.google.com/a/chromium.org/chromedriver/home\n",
     "output_type": "error",
     "traceback": [
      "\u001b[1;31m---------------------------------------------------------------------------\u001b[0m",
      "\u001b[1;31mFileNotFoundError\u001b[0m                         Traceback (most recent call last)",
      "\u001b[1;32m~\\anaconda3\\lib\\site-packages\\selenium\\webdriver\\common\\service.py\u001b[0m in \u001b[0;36mstart\u001b[1;34m(self)\u001b[0m\n\u001b[0;32m     71\u001b[0m             \u001b[0mcmd\u001b[0m\u001b[1;33m.\u001b[0m\u001b[0mextend\u001b[0m\u001b[1;33m(\u001b[0m\u001b[0mself\u001b[0m\u001b[1;33m.\u001b[0m\u001b[0mcommand_line_args\u001b[0m\u001b[1;33m(\u001b[0m\u001b[1;33m)\u001b[0m\u001b[1;33m)\u001b[0m\u001b[1;33m\u001b[0m\u001b[1;33m\u001b[0m\u001b[0m\n\u001b[1;32m---> 72\u001b[1;33m             self.process = subprocess.Popen(cmd, env=self.env,\n\u001b[0m\u001b[0;32m     73\u001b[0m                                             \u001b[0mclose_fds\u001b[0m\u001b[1;33m=\u001b[0m\u001b[0mplatform\u001b[0m\u001b[1;33m.\u001b[0m\u001b[0msystem\u001b[0m\u001b[1;33m(\u001b[0m\u001b[1;33m)\u001b[0m \u001b[1;33m!=\u001b[0m \u001b[1;34m'Windows'\u001b[0m\u001b[1;33m,\u001b[0m\u001b[1;33m\u001b[0m\u001b[1;33m\u001b[0m\u001b[0m\n",
      "\u001b[1;32m~\\anaconda3\\lib\\subprocess.py\u001b[0m in \u001b[0;36m__init__\u001b[1;34m(self, args, bufsize, executable, stdin, stdout, stderr, preexec_fn, close_fds, shell, cwd, env, universal_newlines, startupinfo, creationflags, restore_signals, start_new_session, pass_fds, encoding, errors, text)\u001b[0m\n\u001b[0;32m    853\u001b[0m \u001b[1;33m\u001b[0m\u001b[0m\n\u001b[1;32m--> 854\u001b[1;33m             self._execute_child(args, executable, preexec_fn, close_fds,\n\u001b[0m\u001b[0;32m    855\u001b[0m                                 \u001b[0mpass_fds\u001b[0m\u001b[1;33m,\u001b[0m \u001b[0mcwd\u001b[0m\u001b[1;33m,\u001b[0m \u001b[0menv\u001b[0m\u001b[1;33m,\u001b[0m\u001b[1;33m\u001b[0m\u001b[1;33m\u001b[0m\u001b[0m\n",
      "\u001b[1;32m~\\anaconda3\\lib\\subprocess.py\u001b[0m in \u001b[0;36m_execute_child\u001b[1;34m(self, args, executable, preexec_fn, close_fds, pass_fds, cwd, env, startupinfo, creationflags, shell, p2cread, p2cwrite, c2pread, c2pwrite, errread, errwrite, unused_restore_signals, unused_start_new_session)\u001b[0m\n\u001b[0;32m   1306\u001b[0m             \u001b[1;32mtry\u001b[0m\u001b[1;33m:\u001b[0m\u001b[1;33m\u001b[0m\u001b[1;33m\u001b[0m\u001b[0m\n\u001b[1;32m-> 1307\u001b[1;33m                 hp, ht, pid, tid = _winapi.CreateProcess(executable, args,\n\u001b[0m\u001b[0;32m   1308\u001b[0m                                          \u001b[1;31m# no special security\u001b[0m\u001b[1;33m\u001b[0m\u001b[1;33m\u001b[0m\u001b[1;33m\u001b[0m\u001b[0m\n",
      "\u001b[1;31mFileNotFoundError\u001b[0m: [WinError 2] The system cannot find the file specified",
      "\nDuring handling of the above exception, another exception occurred:\n",
      "\u001b[1;31mWebDriverException\u001b[0m                        Traceback (most recent call last)",
      "\u001b[1;32m<ipython-input-2-adfd78066d94>\u001b[0m in \u001b[0;36m<module>\u001b[1;34m\u001b[0m\n\u001b[0;32m      1\u001b[0m \u001b[1;31m#Open a new web browser.\u001b[0m\u001b[1;33m\u001b[0m\u001b[1;33m\u001b[0m\u001b[1;33m\u001b[0m\u001b[0m\n\u001b[1;32m----> 2\u001b[1;33m \u001b[0mdriver\u001b[0m \u001b[1;33m=\u001b[0m \u001b[0mwebdriver\u001b[0m\u001b[1;33m.\u001b[0m\u001b[0mChrome\u001b[0m\u001b[1;33m(\u001b[0m\u001b[1;33m)\u001b[0m\u001b[1;33m\u001b[0m\u001b[1;33m\u001b[0m\u001b[0m\n\u001b[0m",
      "\u001b[1;32m~\\anaconda3\\lib\\site-packages\\selenium\\webdriver\\chrome\\webdriver.py\u001b[0m in \u001b[0;36m__init__\u001b[1;34m(self, executable_path, port, options, service_args, desired_capabilities, service_log_path, chrome_options, keep_alive)\u001b[0m\n\u001b[0;32m     71\u001b[0m             \u001b[0mservice_args\u001b[0m\u001b[1;33m=\u001b[0m\u001b[0mservice_args\u001b[0m\u001b[1;33m,\u001b[0m\u001b[1;33m\u001b[0m\u001b[1;33m\u001b[0m\u001b[0m\n\u001b[0;32m     72\u001b[0m             log_path=service_log_path)\n\u001b[1;32m---> 73\u001b[1;33m         \u001b[0mself\u001b[0m\u001b[1;33m.\u001b[0m\u001b[0mservice\u001b[0m\u001b[1;33m.\u001b[0m\u001b[0mstart\u001b[0m\u001b[1;33m(\u001b[0m\u001b[1;33m)\u001b[0m\u001b[1;33m\u001b[0m\u001b[1;33m\u001b[0m\u001b[0m\n\u001b[0m\u001b[0;32m     74\u001b[0m \u001b[1;33m\u001b[0m\u001b[0m\n\u001b[0;32m     75\u001b[0m         \u001b[1;32mtry\u001b[0m\u001b[1;33m:\u001b[0m\u001b[1;33m\u001b[0m\u001b[1;33m\u001b[0m\u001b[0m\n",
      "\u001b[1;32m~\\anaconda3\\lib\\site-packages\\selenium\\webdriver\\common\\service.py\u001b[0m in \u001b[0;36mstart\u001b[1;34m(self)\u001b[0m\n\u001b[0;32m     79\u001b[0m         \u001b[1;32mexcept\u001b[0m \u001b[0mOSError\u001b[0m \u001b[1;32mas\u001b[0m \u001b[0merr\u001b[0m\u001b[1;33m:\u001b[0m\u001b[1;33m\u001b[0m\u001b[1;33m\u001b[0m\u001b[0m\n\u001b[0;32m     80\u001b[0m             \u001b[1;32mif\u001b[0m \u001b[0merr\u001b[0m\u001b[1;33m.\u001b[0m\u001b[0merrno\u001b[0m \u001b[1;33m==\u001b[0m \u001b[0merrno\u001b[0m\u001b[1;33m.\u001b[0m\u001b[0mENOENT\u001b[0m\u001b[1;33m:\u001b[0m\u001b[1;33m\u001b[0m\u001b[1;33m\u001b[0m\u001b[0m\n\u001b[1;32m---> 81\u001b[1;33m                 raise WebDriverException(\n\u001b[0m\u001b[0;32m     82\u001b[0m                     \"'%s' executable needs to be in PATH. %s\" % (\n\u001b[0;32m     83\u001b[0m                         os.path.basename(self.path), self.start_error_message)\n",
      "\u001b[1;31mWebDriverException\u001b[0m: Message: 'chromedriver' executable needs to be in PATH. Please see https://sites.google.com/a/chromium.org/chromedriver/home\n"
     ]
    }
   ],
   "source": [
    "#Open a new web browser.\n",
    "driver = webdriver.Chrome()"
   ]
  },
  {
   "cell_type": "code",
   "execution_count": 67,
   "metadata": {},
   "outputs": [],
   "source": [
    "#Open the web page that we want open and log in.\n",
    "driver.get('https://shop.wegmans.com/shop/categories/231')\n",
    "\n",
    "time.sleep(10)"
   ]
  },
  {
   "cell_type": "code",
   "execution_count": 68,
   "metadata": {},
   "outputs": [],
   "source": [
    "X_button1 = driver.find_element_by_class_name('icon-delete')\n",
    "X_button1.click()"
   ]
  },
  {
   "cell_type": "code",
   "execution_count": 69,
   "metadata": {},
   "outputs": [],
   "source": [
    "#Grab the webpage as a BeautifulSoup object\n",
    "soup = BeautifulSoup(driver.page_source,'html.parser')"
   ]
  },
  {
   "cell_type": "code",
   "execution_count": 70,
   "metadata": {},
   "outputs": [],
   "source": [
    "#Obtain Product Names and append to blank list\n",
    "clean_product_names = []\n",
    "product_name = []\n",
    "product_names = soup.find_all('div',class_='cell-title-text')\n",
    "\n",
    "for i in range(len(product_names)):\n",
    "    each_name = product_names[i].text.strip()\n",
    "    product_name.append(each_name)\n",
    "    clean_product_names.append(each_name)"
   ]
  },
  {
   "cell_type": "code",
   "execution_count": 71,
   "metadata": {},
   "outputs": [],
   "source": [
    "#Obtain Product Prices and append to blank list (this will accidentally disguise sales prices as regular prices)\n",
    "clean_prices = []\n",
    "prices = soup.find_all('div',class_='css-1t08fcf')\n",
    "\n",
    "for i in range(len(prices)):\n",
    "    each_price = prices[i].text.strip()\n",
    "    if 'for' in each_price:\n",
    "        each_price=each_price[12:17].replace('/','')\n",
    "    else:\n",
    "        each_price=each_price[6:12].replace('/','')\n",
    "        \n",
    "    clean_prices.append(each_price)"
   ]
  },
  {
   "cell_type": "code",
   "execution_count": 72,
   "metadata": {},
   "outputs": [],
   "source": [
    "dirty_prices = []\n",
    "for i in range(len(prices)):\n",
    "    dirty_prices.append(prices[i].text.strip())\n",
    "# to obtain the starting price if it has a sale\n",
    "# clean_starting_prices = dirty_prices - clean_prices\n",
    "clean_starting_prices = []\n",
    "\n",
    "for i in range(len(dirty_prices)):\n",
    "    clean_starting_price = dirty_prices[i].replace(clean_prices[i],'')\n",
    "    clean_starting_prices.append(clean_starting_price[1:])"
   ]
  },
  {
   "cell_type": "code",
   "execution_count": 73,
   "metadata": {},
   "outputs": [],
   "source": [
    "#Obtain product quantities and append to blank list\n",
    "clean_quantities = []\n",
    "quantities = soup.find_all('div',class_='cell-title-text')\n",
    "v = 0\n",
    "for i in range(len(clean_product_names)):\n",
    "    if 'Avg' in clean_product_names[i]:\n",
    "        clean_quantities.append(None)\n",
    "    else:\n",
    "        clean_quantities.append(quantities[v].text.strip())\n",
    "        v += 1\n",
    "    \n",
    "    "
   ]
  },
  {
   "cell_type": "code",
   "execution_count": 74,
   "metadata": {},
   "outputs": [],
   "source": [
    "#make a product classification column\n",
    "product_type = []\n",
    "product = 'Dairy-Milk'\n",
    "for i in range(len(clean_product_names)):\n",
    "    product_type.append(product)"
   ]
  },
  {
   "cell_type": "code",
   "execution_count": 75,
   "metadata": {},
   "outputs": [],
   "source": [
    "#make a column to generate the date the data was pulled\n",
    "dates = []\n",
    "todays_date = datetime.date.today()\n",
    "for i in range(len(clean_product_names)):\n",
    "    dates.append(todays_date)"
   ]
  },
  {
   "cell_type": "code",
   "execution_count": 76,
   "metadata": {},
   "outputs": [],
   "source": [
    "#make a column to generate the store name where the data is from\n",
    "store = []\n",
    "for i in range(len(clean_product_names)):\n",
    "    store.append('Wegmans')"
   ]
  },
  {
   "cell_type": "code",
   "execution_count": 77,
   "metadata": {},
   "outputs": [],
   "source": [
    "#Create and outsheet dataframe\n",
    "Wegmans_Dairy_Milk_Data1 = {'Date': dates,'Store':store,'Product Type':product_type, 'Product Name': clean_product_names,'Price':clean_prices,'Quantity Sold In':clean_quantities}\n",
    "Wegmans_Dairy_Milk_Dataframe1 = pd.DataFrame(data=Wegmans_Dairy_Milk_Data1)\n",
    "\n",
    "\n",
    "Wegmans_Dairy_Milk_Dataframe1.to_csv ('Wegmans1 ' +product+' '+str(todays_date)+'.csv', index = False, header=True)"
   ]
  },
  {
   "cell_type": "code",
   "execution_count": 78,
   "metadata": {},
   "outputs": [],
   "source": [
    "#Close the webpage\n",
    "driver.close()"
   ]
  },
  {
   "cell_type": "code",
   "execution_count": 79,
   "metadata": {},
   "outputs": [],
   "source": [
    "#Open a new web browser.\n",
    "driver = webdriver.Chrome()"
   ]
  },
  {
   "cell_type": "code",
   "execution_count": 80,
   "metadata": {},
   "outputs": [],
   "source": [
    "#Open the web page that we want open and log in.\n",
    "driver.get('https://shop.wegmans.com/shop/categories/226')\n",
    "\n",
    "time.sleep(10)"
   ]
  },
  {
   "cell_type": "code",
   "execution_count": 81,
   "metadata": {},
   "outputs": [],
   "source": [
    "X_button1 = driver.find_element_by_class_name('icon-delete')\n",
    "X_button1.click()"
   ]
  },
  {
   "cell_type": "code",
   "execution_count": 82,
   "metadata": {},
   "outputs": [],
   "source": [
    "#Grab the webpage as a BeautifulSoup object\n",
    "soup = BeautifulSoup(driver.page_source,'html.parser')"
   ]
  },
  {
   "cell_type": "code",
   "execution_count": 83,
   "metadata": {},
   "outputs": [],
   "source": [
    "#Obtain Product Names and append to blank list\n",
    "clean_product_names = []\n",
    "product_name = []\n",
    "product_names = soup.find_all('div',class_='cell-title-text')\n",
    "\n",
    "for i in range(len(product_names)):\n",
    "    each_name = product_names[i].text.strip()\n",
    "    product_name.append(each_name)\n",
    "    clean_product_names.append(each_name)"
   ]
  },
  {
   "cell_type": "code",
   "execution_count": 84,
   "metadata": {},
   "outputs": [],
   "source": [
    "#Obtain Product Prices and append to blank list (this will accidentally disguise sales prices as regular prices)\n",
    "clean_prices = []\n",
    "prices = soup.find_all('div',class_='css-1t08fcf')\n",
    "\n",
    "for i in range(len(prices)):\n",
    "    each_price = prices[i].text.strip()\n",
    "    if 'for' in each_price:\n",
    "        each_price=each_price[12:17].replace('/','')\n",
    "    else:\n",
    "        each_price=each_price[6:12].replace('/','')\n",
    "        \n",
    "    clean_prices.append(each_price)"
   ]
  },
  {
   "cell_type": "code",
   "execution_count": 85,
   "metadata": {},
   "outputs": [],
   "source": [
    "dirty_prices = []\n",
    "for i in range(len(prices)):\n",
    "    dirty_prices.append(prices[i].text.strip())\n",
    "# to obtain the starting price if it has a sale\n",
    "# clean_starting_prices = dirty_prices - clean_prices\n",
    "clean_starting_prices = []\n",
    "\n",
    "for i in range(len(dirty_prices)):\n",
    "    clean_starting_price = dirty_prices[i].replace(clean_prices[i],'')\n",
    "    clean_starting_prices.append(clean_starting_price[1:])"
   ]
  },
  {
   "cell_type": "code",
   "execution_count": 86,
   "metadata": {},
   "outputs": [],
   "source": [
    "#Obtain product quantities and append to blank list\n",
    "clean_quantities = []\n",
    "quantities = soup.find_all('div',class_='cell-title-text')\n",
    "v = 0\n",
    "for i in range(len(clean_product_names)):\n",
    "    if 'Avg' in clean_product_names[i]:\n",
    "        clean_quantities.append(None)\n",
    "    else:\n",
    "        clean_quantities.append(quantities[v].text.strip())\n",
    "        v += 1\n",
    "    \n",
    "    "
   ]
  },
  {
   "cell_type": "code",
   "execution_count": 87,
   "metadata": {},
   "outputs": [],
   "source": [
    "#make a product classification column\n",
    "product_type = []\n",
    "product = 'Dairy-Eggs'\n",
    "for i in range(len(clean_product_names)):\n",
    "    product_type.append(product)"
   ]
  },
  {
   "cell_type": "code",
   "execution_count": 88,
   "metadata": {},
   "outputs": [],
   "source": [
    "#make a column to generate the date the data was pulled\n",
    "dates = []\n",
    "todays_date = datetime.date.today()\n",
    "for i in range(len(clean_product_names)):\n",
    "    dates.append(todays_date)"
   ]
  },
  {
   "cell_type": "code",
   "execution_count": 89,
   "metadata": {},
   "outputs": [],
   "source": [
    "#make a column to generate the store name where the data is from\n",
    "store = []\n",
    "for i in range(len(clean_product_names)):\n",
    "    store.append('Wegmans')"
   ]
  },
  {
   "cell_type": "code",
   "execution_count": 90,
   "metadata": {},
   "outputs": [],
   "source": [
    "#Create and outsheet dataframe\n",
    "Wegmans_Dairy_Eggs_Data1 = {'Date': dates,'Store':store,'Product Type':product_type, 'Product Name': clean_product_names,'Price':clean_prices,'Quantity Sold In':clean_quantities}\n",
    "Wegmans_Dairy_Eggs_Dataframe1 = pd.DataFrame(data=Wegmans_Dairy_Eggs_Data1)\n",
    "\n",
    "\n",
    "Wegmans_Dairy_Eggs_Dataframe1.to_csv ('Wegmans1 ' +product+' '+str(todays_date)+'.csv', index = False, header=True)"
   ]
  },
  {
   "cell_type": "code",
   "execution_count": 91,
   "metadata": {},
   "outputs": [],
   "source": [
    "#Close the webpage\n",
    "driver.close()"
   ]
  },
  {
   "cell_type": "code",
   "execution_count": null,
   "metadata": {},
   "outputs": [],
   "source": [
    "#Open a new web browser.\n",
    "driver = webdriver.Chrome()"
   ]
  },
  {
   "cell_type": "code",
   "execution_count": null,
   "metadata": {},
   "outputs": [],
   "source": [
    "#Open the web page that we want open and log in.\n",
    "driver.get('https://shop.wegmans.com/shop/categories/217')\n",
    "\n",
    "time.sleep(10)"
   ]
  },
  {
   "cell_type": "code",
   "execution_count": null,
   "metadata": {},
   "outputs": [],
   "source": [
    "X_button1 = driver.find_element_by_class_name('icon-delete')\n",
    "X_button1.click()"
   ]
  },
  {
   "cell_type": "code",
   "execution_count": null,
   "metadata": {},
   "outputs": [],
   "source": [
    "#Grab the webpage as a BeautifulSoup object\n",
    "soup = BeautifulSoup(driver.page_source,'html.parser')"
   ]
  },
  {
   "cell_type": "code",
   "execution_count": null,
   "metadata": {},
   "outputs": [],
   "source": [
    "#Obtain Product Names and append to blank list\n",
    "clean_product_names = []\n",
    "product_name = []\n",
    "product_names = soup.find_all('div',class_='cell-title-text')\n",
    "\n",
    "for i in range(len(product_names)):\n",
    "    each_name = product_names[i].text.strip()\n",
    "    product_name.append(each_name)\n",
    "    clean_product_names.append(each_name)"
   ]
  },
  {
   "cell_type": "code",
   "execution_count": null,
   "metadata": {},
   "outputs": [],
   "source": [
    "#Obtain Product Prices and append to blank list (this will accidentally disguise sales prices as regular prices)\n",
    "clean_prices = []\n",
    "prices = soup.find_all('div',class_='css-1t08fcf')\n",
    "\n",
    "for i in range(len(prices)):\n",
    "    each_price = prices[i].text.strip()\n",
    "    if 'for' in each_price:\n",
    "        each_price=each_price[12:17].replace('/','')\n",
    "    else:\n",
    "        each_price=each_price[6:12].replace('/','')\n",
    "        \n",
    "    clean_prices.append(each_price)"
   ]
  },
  {
   "cell_type": "code",
   "execution_count": null,
   "metadata": {},
   "outputs": [],
   "source": [
    "dirty_prices = []\n",
    "for i in range(len(prices)):\n",
    "    dirty_prices.append(prices[i].text.strip())\n",
    "# to obtain the starting price if it has a sale\n",
    "# clean_starting_prices = dirty_prices - clean_prices\n",
    "clean_starting_prices = []\n",
    "\n",
    "for i in range(len(dirty_prices)):\n",
    "    clean_starting_price = dirty_prices[i].replace(clean_prices[i],'')\n",
    "    clean_starting_prices.append(clean_starting_price[1:])"
   ]
  },
  {
   "cell_type": "code",
   "execution_count": null,
   "metadata": {},
   "outputs": [],
   "source": [
    "#Obtain product quantities and append to blank list\n",
    "clean_quantities = []\n",
    "quantities = soup.find_all('div',class_='cell-title-text')\n",
    "v = 0\n",
    "for i in range(len(clean_product_names)):\n",
    "    if 'Avg' in clean_product_names[i]:\n",
    "        clean_quantities.append(None)\n",
    "    else:\n",
    "        clean_quantities.append(quantities[v].text.strip())\n",
    "        v += 1\n",
    "    \n",
    "    "
   ]
  },
  {
   "cell_type": "code",
   "execution_count": null,
   "metadata": {},
   "outputs": [],
   "source": [
    "#make a product classification column\n",
    "product_type = []\n",
    "product = 'Dairy-Butter'\n",
    "for i in range(len(clean_product_names)):\n",
    "    product_type.append(product)"
   ]
  },
  {
   "cell_type": "code",
   "execution_count": null,
   "metadata": {},
   "outputs": [],
   "source": [
    "#make a column to generate the date the data was pulled\n",
    "dates = []\n",
    "todays_date = datetime.date.today()\n",
    "for i in range(len(clean_product_names)):\n",
    "    dates.append(todays_date)"
   ]
  },
  {
   "cell_type": "code",
   "execution_count": null,
   "metadata": {},
   "outputs": [],
   "source": [
    "#make a column to generate the store name where the data is from\n",
    "store = []\n",
    "for i in range(len(clean_product_names)):\n",
    "    store.append('Wegmans')"
   ]
  },
  {
   "cell_type": "code",
   "execution_count": null,
   "metadata": {},
   "outputs": [],
   "source": [
    "#Create and outsheet dataframe\n",
    "Wegmans_Dairy_Butter_Data1 = {'Date': dates,'Store':store,'Product Type':product_type, 'Product Name': clean_product_names,'Price':clean_prices,'Quantity Sold In':clean_quantities}\n",
    "Wegmans_Dairy_Butter_Dataframe1 = pd.DataFrame(data=Wegmans_Dairy_Butter_Data1)\n",
    "\n",
    "\n",
    "Wegmans_Dairy_BUtter_Dataframe1.to_csv ('Wegmans1 ' +product+' '+str(todays_date)+'.csv', index = False, header=True)"
   ]
  },
  {
   "cell_type": "code",
   "execution_count": null,
   "metadata": {},
   "outputs": [],
   "source": [
    "#Close the webpage\n",
    "driver.close()"
   ]
  },
  {
   "cell_type": "code",
   "execution_count": null,
   "metadata": {},
   "outputs": [],
   "source": [
    "#Open a new web browser.\n",
    "driver = webdriver.Chrome()"
   ]
  },
  {
   "cell_type": "code",
   "execution_count": null,
   "metadata": {},
   "outputs": [],
   "source": [
    "#Open the web page that we want open and log in.\n",
    "driver.get('https://shop.wegmans.com/shop/categories/218')\n",
    "\n",
    "time.sleep(10)"
   ]
  },
  {
   "cell_type": "code",
   "execution_count": null,
   "metadata": {},
   "outputs": [],
   "source": [
    "X_button1 = driver.find_element_by_class_name('icon-delete')\n",
    "X_button1.click()"
   ]
  },
  {
   "cell_type": "code",
   "execution_count": null,
   "metadata": {},
   "outputs": [],
   "source": [
    "#Grab the webpage as a BeautifulSoup object\n",
    "soup = BeautifulSoup(driver.page_source,'html.parser')"
   ]
  },
  {
   "cell_type": "code",
   "execution_count": null,
   "metadata": {},
   "outputs": [],
   "source": [
    "#Obtain Product Names and append to blank list\n",
    "clean_product_names = []\n",
    "product_name = []\n",
    "product_names = soup.find_all('div',class_='cell-title-text')\n",
    "\n",
    "for i in range(len(product_names)):\n",
    "    each_name = product_names[i].text.strip()\n",
    "    product_name.append(each_name)\n",
    "    clean_product_names.append(each_name)"
   ]
  },
  {
   "cell_type": "code",
   "execution_count": null,
   "metadata": {},
   "outputs": [],
   "source": [
    "#Obtain Product Prices and append to blank list (this will accidentally disguise sales prices as regular prices)\n",
    "clean_prices = []\n",
    "prices = soup.find_all('div',class_='css-1t08fcf')\n",
    "\n",
    "for i in range(len(prices)):\n",
    "    each_price = prices[i].text.strip()\n",
    "    if 'for' in each_price:\n",
    "        each_price=each_price[12:17].replace('/','')\n",
    "    else:\n",
    "        each_price=each_price[6:12].replace('/','')\n",
    "        \n",
    "    clean_prices.append(each_price)"
   ]
  },
  {
   "cell_type": "code",
   "execution_count": null,
   "metadata": {},
   "outputs": [],
   "source": [
    "dirty_prices = []\n",
    "for i in range(len(prices)):\n",
    "    dirty_prices.append(prices[i].text.strip())\n",
    "# to obtain the starting price if it has a sale\n",
    "# clean_starting_prices = dirty_prices - clean_prices\n",
    "clean_starting_prices = []\n",
    "\n",
    "for i in range(len(dirty_prices)):\n",
    "    clean_starting_price = dirty_prices[i].replace(clean_prices[i],'')\n",
    "    clean_starting_prices.append(clean_starting_price[1:])"
   ]
  },
  {
   "cell_type": "code",
   "execution_count": null,
   "metadata": {},
   "outputs": [],
   "source": [
    "#Obtain product quantities and append to blank list\n",
    "clean_quantities = []\n",
    "quantities = soup.find_all('div',class_='cell-title-text')\n",
    "v = 0\n",
    "for i in range(len(clean_product_names)):\n",
    "    if 'Avg' in clean_product_names[i]:\n",
    "        clean_quantities.append(None)\n",
    "    else:\n",
    "        clean_quantities.append(quantities[v].text.strip())\n",
    "        v += 1\n",
    "    \n",
    "    "
   ]
  },
  {
   "cell_type": "code",
   "execution_count": null,
   "metadata": {},
   "outputs": [],
   "source": [
    "#make a product classification column\n",
    "product_type = []\n",
    "product = 'Dairy-Cheese'\n",
    "for i in range(len(clean_product_names)):\n",
    "    product_type.append(product)"
   ]
  },
  {
   "cell_type": "code",
   "execution_count": null,
   "metadata": {},
   "outputs": [],
   "source": [
    "#make a column to generate the date the data was pulled\n",
    "dates = []\n",
    "todays_date = datetime.date.today()\n",
    "for i in range(len(clean_product_names)):\n",
    "    dates.append(todays_date)"
   ]
  },
  {
   "cell_type": "code",
   "execution_count": null,
   "metadata": {},
   "outputs": [],
   "source": [
    "#make a column to generate the store name where the data is from\n",
    "store = []\n",
    "for i in range(len(clean_product_names)):\n",
    "    store.append('Wegmans')"
   ]
  },
  {
   "cell_type": "code",
   "execution_count": null,
   "metadata": {},
   "outputs": [],
   "source": [
    "#Create and outsheet dataframe\n",
    "Wegmans_Dairy_Cheese_Data1 = {'Date': dates,'Store':store,'Product Type':product_type, 'Product Name': clean_product_names,'Price':clean_prices,'Quantity Sold In':clean_quantities}\n",
    "Wegmans_Dairy_Cheese_Dataframe1 = pd.DataFrame(data=Wegmans_Dairy_Cheese_Data1)\n",
    "\n",
    "\n",
    "Wegmans_Dairy_Cheese_Dataframe1.to_csv ('Wegmans1 ' +product+' '+str(todays_date)+'.csv', index = False, header=True)"
   ]
  },
  {
   "cell_type": "code",
   "execution_count": null,
   "metadata": {},
   "outputs": [],
   "source": [
    "#Close the webpage\n",
    "driver.close()"
   ]
  }
 ],
 "metadata": {
  "kernelspec": {
   "display_name": "Python 3",
   "language": "python",
   "name": "python3"
  },
  "language_info": {
   "codemirror_mode": {
    "name": "ipython",
    "version": 3
   },
   "file_extension": ".py",
   "mimetype": "text/x-python",
   "name": "python",
   "nbconvert_exporter": "python",
   "pygments_lexer": "ipython3",
   "version": "3.8.3"
  }
 },
 "nbformat": 4,
 "nbformat_minor": 4
}
